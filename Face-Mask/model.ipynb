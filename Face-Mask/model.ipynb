{
 "cells": [
  {
   "cell_type": "code",
   "execution_count": 3,
   "id": "7b9bdc07-2e6f-4bf7-a46f-f28ab7c7313b",
   "metadata": {},
   "outputs": [
    {
     "name": "stderr",
     "output_type": "stream",
     "text": [
      "WARNING:absl:Compiled the loaded model, but the compiled metrics have yet to be built. `model.compile_metrics` will be empty until you train or evaluate the model.\n"
     ]
    }
   ],
   "source": [
    "from tensorflow import keras \n",
    "import cv2\n",
    "import numpy as np\n",
    "model = keras.models.load_model(\"mask_model95.5.h5\")"
   ]
  },
  {
   "cell_type": "code",
   "execution_count": null,
   "id": "59b3bb4c-0927-45eb-b17b-ee0beffacc28",
   "metadata": {},
   "outputs": [],
   "source": [
    "def preprocess_image(frame):\n",
    "    frame = cv2.resize(frame, (224, 224))  # Resize to match model input\n",
    "    frame = frame.astype('float32') / 255.0  # Normalize pixel values\n",
    "    frame = np.expand_dims(frame, axis=0)  # Add batch dimension (1, 224, 224, 3)\n",
    "    return frame\n",
    "cap = cv2.VideoCapture(0)\n",
    "face_cascade = cv2.CascadeClassifier('haarcascade_frontalface_default.xml')\n",
    "\n",
    "\n",
    "while True:\n",
    "    ret, frame = cap.read()  # Capture frame-by-frame\n",
    "    if not ret:\n",
    "        break\n",
    "\n",
    "    # # Preprocess the frame for prediction\n",
    "    # processed_frame = preprocess_image(frame)\n",
    "    gray = cv2.cvtColor(frame, cv2.COLOR_BGR2GRAY)\n",
    "\n",
    "\n",
    "    # Detects faces of different sizes in the input image\n",
    "    faces = face_cascade.detectMultiScale(gray, 1.3, 5)\n",
    "\n",
    "    for (x,y,w,h) in faces:\n",
    "        # To draw a rectangle in a face \n",
    "        cv2.rectangle(frame,(x,y),(x+w,y+h),(255,255,0),2) \n",
    "        roi_gray = gray[y:y+h, x:x+w]\n",
    "        roi_color = frame[y:y+h, x:x+w]\n",
    "\n",
    "    # # Make prediction\n",
    "    roi_color_process = preprocess_image(frame)\n",
    "    prediction = model.predict(roi_color_process)\n",
    "    predicted_class = 'mask on' if prediction[0] > 0.7 else 'Please wear mask'  # Adjust for your classes\n",
    "\n",
    "    # # Display the prediction on the video feed\n",
    "    # if predicted_class == 0:\n",
    "\n",
    "    #     cv2.F\n",
    "        \n",
    "    cv2.putText(frame, f\"Prediction: {predicted_class}\", (50, 50),\n",
    "                cv2.FONT_HERSHEY_SIMPLEX, 1, (0, 255, 0), 2)\n",
    "\n",
    "\n",
    "    cv2.imshow('Live Camera Feed', frame)  # Show the frame with prediction\n",
    "\n",
    "    # Press 'q' to exit\n",
    "    if cv2.waitKey(1) & 0xFF == ord('q'):\n",
    "        break\n",
    "\n"
   ]
  },
  {
   "cell_type": "code",
   "execution_count": 7,
   "id": "94570084-53fd-44dc-9307-3d0f9aed4185",
   "metadata": {},
   "outputs": [],
   "source": [
    "cap.release()\n",
    "cv2.destroyAllWindows()"
   ]
  },
  {
   "cell_type": "code",
   "execution_count": null,
   "id": "e3b583a8",
   "metadata": {},
   "outputs": [],
   "source": []
  }
 ],
 "metadata": {
  "kernelspec": {
   "display_name": "Python 3",
   "language": "python",
   "name": "python3"
  },
  "language_info": {
   "codemirror_mode": {
    "name": "ipython",
    "version": 3
   },
   "file_extension": ".py",
   "mimetype": "text/x-python",
   "name": "python",
   "nbconvert_exporter": "python",
   "pygments_lexer": "ipython3",
   "version": "3.11.0"
  },
  "widgets": {
   "application/vnd.jupyter.widget-state+json": {
    "state": {},
    "version_major": 2,
    "version_minor": 0
   }
  }
 },
 "nbformat": 4,
 "nbformat_minor": 5
}
